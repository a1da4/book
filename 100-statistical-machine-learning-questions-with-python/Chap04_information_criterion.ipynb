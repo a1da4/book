{
  "nbformat": 4,
  "nbformat_minor": 0,
  "metadata": {
    "colab": {
      "name": "Chap04_information_criterion.ipynb",
      "provenance": [],
      "toc_visible": true
    },
    "kernelspec": {
      "name": "python3",
      "display_name": "Python 3"
    }
  },
  "cells": [
    {
      "cell_type": "markdown",
      "metadata": {
        "id": "8WcnDiHMWVBL",
        "colab_type": "text"
      },
      "source": [
        "# Settings"
      ]
    },
    {
      "cell_type": "code",
      "metadata": {
        "id": "4QhqznxVWODL",
        "colab_type": "code",
        "colab": {}
      },
      "source": [
        "import numpy as np\n",
        "import matplotlib.pyplot as plt\n",
        "%matplotlib inline\n",
        "import scipy\n",
        "from scipy import stats\n",
        "from numpy.random import randn\n",
        "import copy"
      ],
      "execution_count": 1,
      "outputs": []
    },
    {
      "cell_type": "markdown",
      "metadata": {
        "id": "r-nWjqsNFLL6",
        "colab_type": "text"
      },
      "source": [
        "# AIC Information Criterion"
      ]
    },
    {
      "cell_type": "code",
      "metadata": {
        "id": "Tu75Gy_PFK6I",
        "colab_type": "code",
        "colab": {}
      },
      "source": [
        "from sklearn.linear_model import LinearRegression\n",
        "import itertools"
      ],
      "execution_count": 2,
      "outputs": []
    },
    {
      "cell_type": "code",
      "metadata": {
        "id": "dZBbjupUMSLj",
        "colab_type": "code",
        "colab": {}
      },
      "source": [
        "res = LinearRegression()"
      ],
      "execution_count": 3,
      "outputs": []
    },
    {
      "cell_type": "code",
      "metadata": {
        "id": "4fCgrDIOMUp3",
        "colab_type": "code",
        "colab": {}
      },
      "source": [
        "def RSS_min(X, y, T):\n",
        "  \"\"\"\n",
        "  :param X: features\n",
        "  :param y: answer / label\n",
        "  :param T: feature combinations\n",
        "  :return: S_min, set_q: min RSS and feature combination\n",
        "  \"\"\"\n",
        "  S_min = np.inf\n",
        "  m = len(T)\n",
        "  for j in range(m):\n",
        "    q = T[j]\n",
        "    res.fit(X[:, q], y)\n",
        "    y_hat = res.predict(X[:, q])\n",
        "    S = np.linalg.norm(y_hat - y)**2\n",
        "    if S < S_min:\n",
        "      S_min = S\n",
        "      set_q = q\n",
        "  \n",
        "  return (S_min, set_q)"
      ],
      "execution_count": 8,
      "outputs": []
    },
    {
      "cell_type": "code",
      "metadata": {
        "id": "jHBSnhSZNQ10",
        "colab_type": "code",
        "colab": {}
      },
      "source": [
        "from sklearn.datasets import load_boston"
      ],
      "execution_count": 4,
      "outputs": []
    },
    {
      "cell_type": "code",
      "metadata": {
        "id": "a-9sj56KNUZ4",
        "colab_type": "code",
        "colab": {}
      },
      "source": [
        "boston = load_boston()\n",
        "X = boston.data[:, [0, 2, 4, 5, 6, 7, 9, 10, 11, 12]]\n",
        "y = boston.target"
      ],
      "execution_count": 5,
      "outputs": []
    },
    {
      "cell_type": "code",
      "metadata": {
        "id": "E-JygYDLNg89",
        "colab_type": "code",
        "colab": {}
      },
      "source": [
        "def AIC(X, y):\n",
        "  n, p = X.shape\n",
        "  AIC_min = np.inf\n",
        "  for k in range(1, p+1):\n",
        "    # pick up k features from p features (k <= p)\n",
        "    T = list(itertools.combinations(range(p), k))\n",
        "    # return minimum RSS and k features in T\n",
        "    S_min, set_q = RSS_min(X, y, T)\n",
        "    AIC = n * np.log(S_min) + 2 * k\n",
        "    if AIC < AIC_min:\n",
        "      AIC_min = AIC\n",
        "      set_min = set_q\n",
        "  print(AIC_min, set_min)"
      ],
      "execution_count": 12,
      "outputs": []
    },
    {
      "cell_type": "code",
      "metadata": {
        "id": "G0HWCJ_YRPQU",
        "colab_type": "code",
        "colab": {
          "base_uri": "https://localhost:8080/",
          "height": 34
        },
        "outputId": "062e24e8-7afd-42fc-e183-e0fe864054a8"
      },
      "source": [
        "AIC(X, y)"
      ],
      "execution_count": 13,
      "outputs": [
        {
          "output_type": "stream",
          "text": [
            "4770.415163216072 (0, 2, 3, 5, 7, 8, 9)\n"
          ],
          "name": "stdout"
        }
      ]
    },
    {
      "cell_type": "markdown",
      "metadata": {
        "id": "Y916JZ5-Qh7s",
        "colab_type": "text"
      },
      "source": [
        "# BIC Information Criterion"
      ]
    },
    {
      "cell_type": "code",
      "metadata": {
        "id": "NEY0mlzVQQOP",
        "colab_type": "code",
        "colab": {}
      },
      "source": [
        "def BIC(X, y):\n",
        "  n, p = X.shape\n",
        "  BIC_min = np.inf\n",
        "  for k in range(1, p+1):\n",
        "    # pick up k features from p features (k <= p)\n",
        "    T = list(itertools.combinations(range(p), k))\n",
        "    # return minimum RSS and k features in T\n",
        "    S_min, set_q = RSS_min(X, y, T)\n",
        "    BIC = n * np.log(S_min) + k * np.log(n)\n",
        "    if BIC < BIC_min:\n",
        "      BIC_min = BIC\n",
        "      set_min = set_q\n",
        "  print(BIC_min, set_min)"
      ],
      "execution_count": 16,
      "outputs": []
    },
    {
      "cell_type": "code",
      "metadata": {
        "id": "GmcJnfLWRVVR",
        "colab_type": "code",
        "colab": {
          "base_uri": "https://localhost:8080/",
          "height": 34
        },
        "outputId": "cfaf46a6-2448-411d-c0ca-c62038679387"
      },
      "source": [
        "BIC(X, y)"
      ],
      "execution_count": 17,
      "outputs": [
        {
          "output_type": "stream",
          "text": [
            "4796.644613310488 (2, 3, 5, 7, 8, 9)\n"
          ],
          "name": "stdout"
        }
      ]
    },
    {
      "cell_type": "markdown",
      "metadata": {
        "id": "OhbVWWa3Q_0y",
        "colab_type": "text"
      },
      "source": [
        "# Adjusted Coefficient of Determination"
      ]
    },
    {
      "cell_type": "code",
      "metadata": {
        "id": "xDVmD5hVSb8a",
        "colab_type": "code",
        "colab": {}
      },
      "source": [
        "def TSS(y):\n",
        "  tss = np.linalg.norm(y - np.average(y))**2\n",
        "  return tss"
      ],
      "execution_count": 26,
      "outputs": []
    },
    {
      "cell_type": "code",
      "metadata": {
        "id": "ekHrRxdqQwhg",
        "colab_type": "code",
        "colab": {}
      },
      "source": [
        "def AR2(X, y):\n",
        "  n, p = X.shape\n",
        "  AR_max = -np.inf\n",
        "  for k in range(1, p+1):\n",
        "    # pick up k features from p features (k <= p)\n",
        "    T = list(itertools.combinations(range(p), k))\n",
        "    # return minimum RSS and k features in T\n",
        "    rss, set_q = RSS_min(X, y, T)\n",
        "    tss = TSS(y)\n",
        "    AR = 1 - rss/(n - k - 1)/tss/(n - 1)\n",
        "    if AR > AR_max:\n",
        "      AR_max = AR\n",
        "      set_max = set_q\n",
        "  print(AR_max, set_max)"
      ],
      "execution_count": 24,
      "outputs": []
    },
    {
      "cell_type": "code",
      "metadata": {
        "id": "kRy5oVDbRilO",
        "colab_type": "code",
        "colab": {
          "base_uri": "https://localhost:8080/",
          "height": 34
        },
        "outputId": "a26f02cf-ad7f-44d3-a3ff-68eb7bca1298"
      },
      "source": [
        "AR2(X, y)"
      ],
      "execution_count": 27,
      "outputs": [
        {
          "output_type": "stream",
          "text": [
            "0.9999988747038264 (0, 2, 3, 5, 7, 8, 9)\n"
          ],
          "name": "stdout"
        }
      ]
    },
    {
      "cell_type": "markdown",
      "metadata": {
        "id": "JmsGVomnTYuf",
        "colab_type": "text"
      },
      "source": [
        "# Relationship between AIC/BIC and number of features"
      ]
    },
    {
      "cell_type": "code",
      "metadata": {
        "id": "4FrNrC2QSHFL",
        "colab_type": "code",
        "colab": {}
      },
      "source": [
        "def IC(X, y, k):\n",
        "  n, p = X.shape\n",
        "  T = list(itertools.combinations(range(p), k))\n",
        "  S, set_q = RSS_min(X, y, T)\n",
        "  AIC = n * np.log(S) + 2 * k\n",
        "  BIC = n * np.log(S) + k * np.log(n)\n",
        "  return {'AIC': AIC, 'BIC': BIC}"
      ],
      "execution_count": 28,
      "outputs": []
    },
    {
      "cell_type": "code",
      "metadata": {
        "id": "DbLulSoZT4Ls",
        "colab_type": "code",
        "colab": {}
      },
      "source": [
        "AIC_seq = []; BIC_seq = []\n",
        "for k in range(1, p+1):\n",
        "  ic_dic = IC(X, y, k)\n",
        "  AIC_seq.append(ic_dic['AIC'])\n",
        "  BIC_seq.append(ic_dic['BIC'])\n",
        "x_seq = np.arange(1, p+1, 1)"
      ],
      "execution_count": 29,
      "outputs": []
    },
    {
      "cell_type": "code",
      "metadata": {
        "id": "_IDmpoStUUMd",
        "colab_type": "code",
        "colab": {
          "base_uri": "https://localhost:8080/",
          "height": 312
        },
        "outputId": "85819b9d-aeb9-43f4-991f-c88df7c78f7e"
      },
      "source": [
        "plt.plot(x_seq, AIC_seq, c='red', label='AIC')\n",
        "plt.plot(x_seq, BIC_seq, c='blue', label='BIC')\n",
        "plt.xlabel('num of features')\n",
        "plt.ylabel('AIC / BIC')\n",
        "plt.title('relationship between AIC / BIC and number of features.')\n",
        "plt.legend()"
      ],
      "execution_count": 31,
      "outputs": [
        {
          "output_type": "execute_result",
          "data": {
            "text/plain": [
              "<matplotlib.legend.Legend at 0x7f5b8da2f5f8>"
            ]
          },
          "metadata": {
            "tags": []
          },
          "execution_count": 31
        },
        {
          "output_type": "display_data",
          "data": {
            "image/png": "[encoded data removed]",
            "text/plain": [
              "<Figure size 432x288 with 1 Axes>"
            ]
          },
          "metadata": {
            "tags": [],
            "needs_background": "light"
          }
        }
      ]
    },
    {
      "cell_type": "markdown",
      "metadata": {
        "id": "NrzR0lD_VWyg",
        "colab_type": "text"
      },
      "source": [
        "* BIC is bigger than AIC.  \n",
        "* BIC uses a larger weight for the number of features than AIC, so BIC prefers a simpler model."
      ]
    }
  ]
}