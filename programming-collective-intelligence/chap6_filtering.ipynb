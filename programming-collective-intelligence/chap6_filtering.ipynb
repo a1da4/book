{
  "nbformat": 4,
  "nbformat_minor": 0,
  "metadata": {
    "colab": {
      "name": "chap6_filtering.ipynb",
      "provenance": [],
      "toc_visible": true
    },
    "kernelspec": {
      "name": "python3",
      "display_name": "Python 3"
    }
  },
  "cells": [
    {
      "cell_type": "markdown",
      "metadata": {
        "id": "OZ0fA648nQO7",
        "colab_type": "text"
      },
      "source": [
        "# Settings"
      ]
    },
    {
      "cell_type": "code",
      "metadata": {
        "id": "6ReozAUic8Ht",
        "colab_type": "code",
        "colab": {}
      },
      "source": [
        "import re\n",
        "import math"
      ],
      "execution_count": 0,
      "outputs": []
    },
    {
      "cell_type": "code",
      "metadata": {
        "id": "S3nB1nS9d7h2",
        "colab_type": "code",
        "colab": {}
      },
      "source": [
        "def getwords(doc):\n",
        "  splitter = re.compile('\\\\W*')\n",
        "  # 単語を非アルファベットの文字で分割する\n",
        "  words = [s.lower() for s in splitter.split(doc) if len(s)>2 and len(s)<20]\n",
        "  # ユニークな単語のみの集合を返す\n",
        "  return dict([(w, 1) for w in words])"
      ],
      "execution_count": 0,
      "outputs": []
    },
    {
      "cell_type": "code",
      "metadata": {
        "id": "ZpWRov4Aeh97",
        "colab_type": "code",
        "outputId": "6b0fb72e-ed81-48a9-8d25-1e88882c3a9c",
        "colab": {
          "base_uri": "https://localhost:8080/",
          "height": 68
        }
      },
      "source": [
        "s = 'asdf asdf asdf asdf'\n",
        "getwords(s)"
      ],
      "execution_count": 3,
      "outputs": [
        {
          "output_type": "stream",
          "text": [
            "/usr/local/lib/python3.6/dist-packages/ipykernel_launcher.py:4: FutureWarning: split() requires a non-empty pattern match.\n",
            "  after removing the cwd from sys.path.\n"
          ],
          "name": "stderr"
        },
        {
          "output_type": "execute_result",
          "data": {
            "text/plain": [
              "{'asdf': 1}"
            ]
          },
          "metadata": {
            "tags": []
          },
          "execution_count": 3
        }
      ]
    },
    {
      "cell_type": "code",
      "metadata": {
        "id": "skvqUKtiepGy",
        "colab_type": "code",
        "outputId": "119d6075-6c13-4031-8f14-ca1513f27c70",
        "colab": {
          "base_uri": "https://localhost:8080/",
          "height": 68
        }
      },
      "source": [
        "s = 'I have a PEN and Apple.'\n",
        "getwords(s)"
      ],
      "execution_count": 4,
      "outputs": [
        {
          "output_type": "stream",
          "text": [
            "/usr/local/lib/python3.6/dist-packages/ipykernel_launcher.py:4: FutureWarning: split() requires a non-empty pattern match.\n",
            "  after removing the cwd from sys.path.\n"
          ],
          "name": "stderr"
        },
        {
          "output_type": "execute_result",
          "data": {
            "text/plain": [
              "{'and': 1, 'apple': 1, 'have': 1, 'pen': 1}"
            ]
          },
          "metadata": {
            "tags": []
          },
          "execution_count": 4
        }
      ]
    },
    {
      "cell_type": "markdown",
      "metadata": {
        "id": "NOZmqIkXnLyC",
        "colab_type": "text"
      },
      "source": [
        "# Simple Classifier (word-level)"
      ]
    },
    {
      "cell_type": "code",
      "metadata": {
        "id": "FYrTxp-Ie1bN",
        "colab_type": "code",
        "colab": {}
      },
      "source": [
        "class classifier:\n",
        "  def __init__(self, getfeatures, filename=None):\n",
        "    # fc: feature_count, cc: categoly_count\n",
        "    self.fc = {}\n",
        "    self.cc = {}\n",
        "    self.getfeatures = getfeatures\n",
        "  \n",
        "  def incf(self, f, cat):\n",
        "    self.fc.setdefault(f, {})\n",
        "    self.fc[f].setdefault(cat, 0)\n",
        "    self.fc[f][cat] += 1\n",
        "\n",
        "  def incc(self, cat):\n",
        "    self.cc.setdefault(cat, 0)\n",
        "    self.cc[cat] += 1\n",
        "  \n",
        "  def fcount(self, f, cat):\n",
        "    if f in self.fc and cat in self.fc[f]:\n",
        "      return float(self.fc[f][cat])\n",
        "    return 0.0\n",
        "  \n",
        "  def catcount(self, cat):\n",
        "    if cat in self.cc:\n",
        "      return float(self.cc[cat])\n",
        "    return 0\n",
        "  \n",
        "  def totalcount(self):\n",
        "    return sum(self.cc.values())\n",
        "  \n",
        "  def categories(self):\n",
        "    return self.cc.keys()\n",
        "  \n",
        "  def train(self, item, cat):\n",
        "    features = self.getfeatures(item)\n",
        "    for f in features:\n",
        "      self.incf(f, cat)\n",
        "    self.incc(cat)\n",
        "\n",
        "  # C(feature, categoly) / C(categolized_sentence)\n",
        "  def fprob(self, f, cat):\n",
        "    if self.catcount(cat) == 0:\n",
        "      return 0\n",
        "    return self.fcount(f, cat) / self.catcount(cat)\n",
        "  \n",
        "  def weightedprob(self, f, cat, prf, weight=1.0, ap=0.5):\n",
        "    # prf: probability function\n",
        "    # ap: approximate probability\n",
        "    ## calculate weighted probability for sparse features\n",
        "    basicprob = prf(f, cat)\n",
        "    totals = sum([self.fcount(f, c) for c in self.categories()])\n",
        "    bp = ((weight*ap) + (totals*basicprob)) / (weight+totals)\n",
        "    return bp"
      ],
      "execution_count": 0,
      "outputs": []
    },
    {
      "cell_type": "code",
      "metadata": {
        "id": "QZmTu2bXfuaw",
        "colab_type": "code",
        "outputId": "70ecddd6-bd2e-4c7d-9cba-51d1bbeeef85",
        "colab": {
          "base_uri": "https://localhost:8080/",
          "height": 68
        }
      },
      "source": [
        "cl = classifier(getwords)\n",
        "cl.train('the quick brown fox jumps over the lazy dog', 'good')\n",
        "cl.train('make quick money in the online casino', 'bad')\n",
        "cl.fcount('quick', 'good'), cl.fcount('quick', 'bad')"
      ],
      "execution_count": 6,
      "outputs": [
        {
          "output_type": "stream",
          "text": [
            "/usr/local/lib/python3.6/dist-packages/ipykernel_launcher.py:4: FutureWarning: split() requires a non-empty pattern match.\n",
            "  after removing the cwd from sys.path.\n"
          ],
          "name": "stderr"
        },
        {
          "output_type": "execute_result",
          "data": {
            "text/plain": [
              "(1.0, 1.0)"
            ]
          },
          "metadata": {
            "tags": []
          },
          "execution_count": 6
        }
      ]
    },
    {
      "cell_type": "code",
      "metadata": {
        "id": "Rk4Y8-vUhqNM",
        "colab_type": "code",
        "colab": {}
      },
      "source": [
        "def sampletrain(cl):\n",
        "  cl.train('Nobody owns the water.', 'good')\n",
        "  cl.train('the quick rabbit jumps fences', 'good')\n",
        "  cl.train('buy pharmaceuticals now', 'bad')\n",
        "  cl.train('make quick money at the online casino', 'bad')\n",
        "  cl.train('the quick brown fox jumps over the lazy dog', 'good')"
      ],
      "execution_count": 0,
      "outputs": []
    },
    {
      "cell_type": "code",
      "metadata": {
        "id": "ZFPxqq0niZrq",
        "colab_type": "code",
        "outputId": "732bea28-8dd2-45b4-8a3c-3ac1a6ed54d2",
        "colab": {
          "base_uri": "https://localhost:8080/",
          "height": 68
        }
      },
      "source": [
        "sampletrain(cl)\n",
        "cl.fcount('quick', 'good'), cl.fcount('quick', 'bad')"
      ],
      "execution_count": 8,
      "outputs": [
        {
          "output_type": "stream",
          "text": [
            "/usr/local/lib/python3.6/dist-packages/ipykernel_launcher.py:4: FutureWarning: split() requires a non-empty pattern match.\n",
            "  after removing the cwd from sys.path.\n"
          ],
          "name": "stderr"
        },
        {
          "output_type": "execute_result",
          "data": {
            "text/plain": [
              "(3.0, 2.0)"
            ]
          },
          "metadata": {
            "tags": []
          },
          "execution_count": 8
        }
      ]
    },
    {
      "cell_type": "code",
      "metadata": {
        "id": "ER0zVvQ2KvTN",
        "colab_type": "code",
        "outputId": "f8fd1395-9440-43e7-db13-a03d40bb45ba",
        "colab": {
          "base_uri": "https://localhost:8080/",
          "height": 357
        }
      },
      "source": [
        "cl.fc"
      ],
      "execution_count": 9,
      "outputs": [
        {
          "output_type": "execute_result",
          "data": {
            "text/plain": [
              "{'brown': {'good': 2},\n",
              " 'buy': {'bad': 1},\n",
              " 'casino': {'bad': 2},\n",
              " 'dog': {'good': 2},\n",
              " 'fences': {'good': 1},\n",
              " 'fox': {'good': 2},\n",
              " 'jumps': {'good': 3},\n",
              " 'lazy': {'good': 2},\n",
              " 'make': {'bad': 2},\n",
              " 'money': {'bad': 2},\n",
              " 'nobody': {'good': 1},\n",
              " 'now': {'bad': 1},\n",
              " 'online': {'bad': 2},\n",
              " 'over': {'good': 2},\n",
              " 'owns': {'good': 1},\n",
              " 'pharmaceuticals': {'bad': 1},\n",
              " 'quick': {'bad': 2, 'good': 3},\n",
              " 'rabbit': {'good': 1},\n",
              " 'the': {'bad': 2, 'good': 4},\n",
              " 'water': {'good': 1}}"
            ]
          },
          "metadata": {
            "tags": []
          },
          "execution_count": 9
        }
      ]
    },
    {
      "cell_type": "code",
      "metadata": {
        "id": "NJy-NhCpLrPd",
        "colab_type": "code",
        "outputId": "94989b74-ca8d-47ef-9bf3-2e18af64e924",
        "colab": {
          "base_uri": "https://localhost:8080/",
          "height": 34
        }
      },
      "source": [
        "cl.cc"
      ],
      "execution_count": 10,
      "outputs": [
        {
          "output_type": "execute_result",
          "data": {
            "text/plain": [
              "{'bad': 3, 'good': 4}"
            ]
          },
          "metadata": {
            "tags": []
          },
          "execution_count": 10
        }
      ]
    },
    {
      "cell_type": "code",
      "metadata": {
        "id": "O4M7fK0Ti8m3",
        "colab_type": "code",
        "outputId": "a41b1c56-7329-4231-cfe9-97ee6a62bc6c",
        "colab": {
          "base_uri": "https://localhost:8080/",
          "height": 34
        }
      },
      "source": [
        "cl.fprob('quick', 'good')"
      ],
      "execution_count": 11,
      "outputs": [
        {
          "output_type": "execute_result",
          "data": {
            "text/plain": [
              "0.75"
            ]
          },
          "metadata": {
            "tags": []
          },
          "execution_count": 11
        }
      ]
    },
    {
      "cell_type": "code",
      "metadata": {
        "id": "4FIC9Z-fmtKs",
        "colab_type": "code",
        "outputId": "a48dd74c-afe5-4ff0-ee0a-5a5fe94e2921",
        "colab": {
          "base_uri": "https://localhost:8080/",
          "height": 34
        }
      },
      "source": [
        "cl.fprob('money', 'good')"
      ],
      "execution_count": 12,
      "outputs": [
        {
          "output_type": "execute_result",
          "data": {
            "text/plain": [
              "0.0"
            ]
          },
          "metadata": {
            "tags": []
          },
          "execution_count": 12
        }
      ]
    },
    {
      "cell_type": "code",
      "metadata": {
        "id": "nuhM4cQAkK3q",
        "colab_type": "code",
        "outputId": "2592e0da-68ef-4e77-e4a2-35d7169103f9",
        "colab": {
          "base_uri": "https://localhost:8080/",
          "height": 34
        }
      },
      "source": [
        "cl.weightedprob('money', 'good', cl.fprob)"
      ],
      "execution_count": 13,
      "outputs": [
        {
          "output_type": "execute_result",
          "data": {
            "text/plain": [
              "0.16666666666666666"
            ]
          },
          "metadata": {
            "tags": []
          },
          "execution_count": 13
        }
      ]
    },
    {
      "cell_type": "markdown",
      "metadata": {
        "id": "nQOhc3O_nHFo",
        "colab_type": "text"
      },
      "source": [
        "# Bayesian Classifier (document-level)\n"
      ]
    },
    {
      "cell_type": "code",
      "metadata": {
        "id": "GSQ-R65jl0vn",
        "colab_type": "code",
        "colab": {}
      },
      "source": [
        "class naivebayes(classifier):\n",
        "  def __init__(self, getfeatures):\n",
        "    classifier.__init__(self, getfeatures)\n",
        "    self.thresholds = {}\n",
        "\n",
        "  def setthreshold(self, cat, t):\n",
        "    self.thresholds[cat] = t\n",
        "  \n",
        "  def getthreshold(self, cat):\n",
        "    if cat in self.thresholds:\n",
        "      return self.thresholds[cat]\n",
        "    else:\n",
        "      return 1.0\n",
        "\n",
        "  def docprob(self, item, cat):\n",
        "    # Calculate P(document | category)\n",
        "    features = self.getfeatures(item)\n",
        "    p = 1\n",
        "    for f in features:\n",
        "      p *= self.weightedprob(f, cat, self.fprob)\n",
        "    return p\n",
        "  \n",
        "  def prob(self, item, cat):\n",
        "    # Calculate P(document | category) * P(category)\n",
        "    catprob = self.catcount(cat) / self.totalcount()\n",
        "    docprob = self.docprob(item, cat)\n",
        "    return docprob * catprob\n",
        "\n",
        "  def classify(self, item, default=None):\n",
        "    probs = {}\n",
        "    max_prob = 0.0\n",
        "    best = None\n",
        "    for cat in self.categories():\n",
        "      probs[cat] = self.prob(item, cat)\n",
        "      if probs[cat] > max_prob:\n",
        "        max_prob = probs[cat]\n",
        "        best = cat\n",
        "    for cat in probs:\n",
        "      # the best probability is bigger than the other probabilties?\n",
        "      if cat == best:\n",
        "        continue\n",
        "      if probs[cat] * self.getthreshold(best) > probs[best]:\n",
        "        return default\n",
        "      return best\n"
      ],
      "execution_count": 0,
      "outputs": []
    },
    {
      "cell_type": "code",
      "metadata": {
        "id": "ynFYGFXLJnef",
        "colab_type": "code",
        "outputId": "e8dc921e-de8e-47a6-bcb5-8816437f3e82",
        "colab": {
          "base_uri": "https://localhost:8080/",
          "height": 51
        }
      },
      "source": [
        "cl = naivebayes(getwords)\n",
        "sampletrain(cl)"
      ],
      "execution_count": 15,
      "outputs": [
        {
          "output_type": "stream",
          "text": [
            "/usr/local/lib/python3.6/dist-packages/ipykernel_launcher.py:4: FutureWarning: split() requires a non-empty pattern match.\n",
            "  after removing the cwd from sys.path.\n"
          ],
          "name": "stderr"
        }
      ]
    },
    {
      "cell_type": "code",
      "metadata": {
        "id": "-2lGKQgXKF2o",
        "colab_type": "code",
        "outputId": "a571d6ce-057a-48de-b170-37ebcde8d538",
        "colab": {
          "base_uri": "https://localhost:8080/",
          "height": 68
        }
      },
      "source": [
        "cl.prob('quick rabbit', 'good')\n",
        "cl.classify('quick rabbit', default='unknown')"
      ],
      "execution_count": 16,
      "outputs": [
        {
          "output_type": "stream",
          "text": [
            "/usr/local/lib/python3.6/dist-packages/ipykernel_launcher.py:4: FutureWarning: split() requires a non-empty pattern match.\n",
            "  after removing the cwd from sys.path.\n"
          ],
          "name": "stderr"
        },
        {
          "output_type": "execute_result",
          "data": {
            "text/plain": [
              "'good'"
            ]
          },
          "metadata": {
            "tags": []
          },
          "execution_count": 16
        }
      ]
    },
    {
      "cell_type": "code",
      "metadata": {
        "id": "tppH7hsZKT5f",
        "colab_type": "code",
        "outputId": "0327f10a-07e8-479b-84ef-5558a4be1db7",
        "colab": {
          "base_uri": "https://localhost:8080/",
          "height": 68
        }
      },
      "source": [
        "cl.prob('quick rabbit', 'bad')"
      ],
      "execution_count": 17,
      "outputs": [
        {
          "output_type": "stream",
          "text": [
            "/usr/local/lib/python3.6/dist-packages/ipykernel_launcher.py:4: FutureWarning: split() requires a non-empty pattern match.\n",
            "  after removing the cwd from sys.path.\n"
          ],
          "name": "stderr"
        },
        {
          "output_type": "execute_result",
          "data": {
            "text/plain": [
              "0.05"
            ]
          },
          "metadata": {
            "tags": []
          },
          "execution_count": 17
        }
      ]
    },
    {
      "cell_type": "code",
      "metadata": {
        "id": "XQDwXtoWKYo2",
        "colab_type": "code",
        "colab": {
          "base_uri": "https://localhost:8080/",
          "height": 68
        },
        "outputId": "df918b9b-517b-4b3a-fc5f-a67470cf5284"
      },
      "source": [
        "cl.classify('quick money', default='unknown')"
      ],
      "execution_count": 18,
      "outputs": [
        {
          "output_type": "stream",
          "text": [
            "/usr/local/lib/python3.6/dist-packages/ipykernel_launcher.py:4: FutureWarning: split() requires a non-empty pattern match.\n",
            "  after removing the cwd from sys.path.\n"
          ],
          "name": "stderr"
        },
        {
          "output_type": "execute_result",
          "data": {
            "text/plain": [
              "'bad'"
            ]
          },
          "metadata": {
            "tags": []
          },
          "execution_count": 18
        }
      ]
    },
    {
      "cell_type": "code",
      "metadata": {
        "id": "aq_WpJN7RNbR",
        "colab_type": "code",
        "colab": {
          "base_uri": "https://localhost:8080/",
          "height": 68
        },
        "outputId": "ba476963-936f-4350-e556-8472ea4a550a"
      },
      "source": [
        "cl.setthreshold('bad', 3.0)\n",
        "cl.classify('quick money', default='unknown')"
      ],
      "execution_count": 19,
      "outputs": [
        {
          "output_type": "stream",
          "text": [
            "/usr/local/lib/python3.6/dist-packages/ipykernel_launcher.py:4: FutureWarning: split() requires a non-empty pattern match.\n",
            "  after removing the cwd from sys.path.\n"
          ],
          "name": "stderr"
        },
        {
          "output_type": "execute_result",
          "data": {
            "text/plain": [
              "'unknown'"
            ]
          },
          "metadata": {
            "tags": []
          },
          "execution_count": 19
        }
      ]
    },
    {
      "cell_type": "markdown",
      "metadata": {
        "id": "KvGLhe5NSxr9",
        "colab_type": "text"
      },
      "source": [
        "# Fisher Classifier (document-level)"
      ]
    },
    {
      "cell_type": "code",
      "metadata": {
        "id": "-yuw5NqvRSmS",
        "colab_type": "code",
        "colab": {}
      },
      "source": [
        "class fisherclassifier(classifier):\n",
        "  def cprob(self, f, cat):\n",
        "    # Calculate the probability of P(f, c) / P(f, all-categories)\n",
        "    clf = self.fprob(f, cat)\n",
        "    if clf == 0:\n",
        "      return 0\n",
        "    freqsum = sum([self.fprob(f, c) for c in self.categories()])\n",
        "    p = clf / freqsum\n",
        "    return p\n",
        "  \n",
        "  def fisherprob(self, item, cat):\n",
        "    p = 1\n",
        "    features = self.getfeatures(item)\n",
        "    for f in features:\n",
        "      p *= self.weightedprob(f, cat, self.cprob)\n",
        "    fscore = -2 * math.log(p)\n",
        "    return self.invchi2(fscore, len(features)*2)\n",
        "  \n",
        "  def invchi2(self, chi, df):\n",
        "    m = chi / 2.0\n",
        "    sums = term = math.exp(-m)\n",
        "    for i in range(1, df//2):\n",
        "      term *= m / i\n",
        "      sums += term\n",
        "    return min(sums, 1.0)"
      ],
      "execution_count": 0,
      "outputs": []
    },
    {
      "cell_type": "code",
      "metadata": {
        "id": "sQmES7DLWp5z",
        "colab_type": "code",
        "colab": {
          "base_uri": "https://localhost:8080/",
          "height": 51
        },
        "outputId": "e688c96b-c4b0-48e7-ab22-e671e77c0068"
      },
      "source": [
        "cl = fisherclassifier(getwords)\n",
        "sampletrain(cl)"
      ],
      "execution_count": 21,
      "outputs": [
        {
          "output_type": "stream",
          "text": [
            "/usr/local/lib/python3.6/dist-packages/ipykernel_launcher.py:4: FutureWarning: split() requires a non-empty pattern match.\n",
            "  after removing the cwd from sys.path.\n"
          ],
          "name": "stderr"
        }
      ]
    },
    {
      "cell_type": "code",
      "metadata": {
        "id": "0-sYz3diX-fl",
        "colab_type": "code",
        "colab": {
          "base_uri": "https://localhost:8080/",
          "height": 357
        },
        "outputId": "aafe0c81-cb68-4ff9-972c-3282a8c95a24"
      },
      "source": [
        "cl.fc"
      ],
      "execution_count": 22,
      "outputs": [
        {
          "output_type": "execute_result",
          "data": {
            "text/plain": [
              "{'brown': {'good': 1},\n",
              " 'buy': {'bad': 1},\n",
              " 'casino': {'bad': 1},\n",
              " 'dog': {'good': 1},\n",
              " 'fences': {'good': 1},\n",
              " 'fox': {'good': 1},\n",
              " 'jumps': {'good': 2},\n",
              " 'lazy': {'good': 1},\n",
              " 'make': {'bad': 1},\n",
              " 'money': {'bad': 1},\n",
              " 'nobody': {'good': 1},\n",
              " 'now': {'bad': 1},\n",
              " 'online': {'bad': 1},\n",
              " 'over': {'good': 1},\n",
              " 'owns': {'good': 1},\n",
              " 'pharmaceuticals': {'bad': 1},\n",
              " 'quick': {'bad': 1, 'good': 2},\n",
              " 'rabbit': {'good': 1},\n",
              " 'the': {'bad': 1, 'good': 3},\n",
              " 'water': {'good': 1}}"
            ]
          },
          "metadata": {
            "tags": []
          },
          "execution_count": 22
        }
      ]
    },
    {
      "cell_type": "code",
      "metadata": {
        "id": "6tcOm8U5Xg7_",
        "colab_type": "code",
        "colab": {
          "base_uri": "https://localhost:8080/",
          "height": 34
        },
        "outputId": "695ce8ca-12e1-40b8-a2b0-270a8c18cbc3"
      },
      "source": [
        "cl.cprob('quick', 'good')"
      ],
      "execution_count": 23,
      "outputs": [
        {
          "output_type": "execute_result",
          "data": {
            "text/plain": [
              "0.5714285714285715"
            ]
          },
          "metadata": {
            "tags": []
          },
          "execution_count": 23
        }
      ]
    },
    {
      "cell_type": "code",
      "metadata": {
        "id": "vpM3i6tsXlyv",
        "colab_type": "code",
        "colab": {
          "base_uri": "https://localhost:8080/",
          "height": 68
        },
        "outputId": "b876191f-46ce-4179-c7d3-4e78cc278b99"
      },
      "source": [
        "cl.fisherprob('quick rabbit', 'good')"
      ],
      "execution_count": 24,
      "outputs": [
        {
          "output_type": "stream",
          "text": [
            "/usr/local/lib/python3.6/dist-packages/ipykernel_launcher.py:4: FutureWarning: split() requires a non-empty pattern match.\n",
            "  after removing the cwd from sys.path.\n"
          ],
          "name": "stderr"
        },
        {
          "output_type": "execute_result",
          "data": {
            "text/plain": [
              "0.78013986588958"
            ]
          },
          "metadata": {
            "tags": []
          },
          "execution_count": 24
        }
      ]
    },
    {
      "cell_type": "code",
      "metadata": {
        "id": "BVU61amAXutF",
        "colab_type": "code",
        "colab": {
          "base_uri": "https://localhost:8080/",
          "height": 68
        },
        "outputId": "4f185d50-ea2b-4162-91df-cdde7bb41528"
      },
      "source": [
        "cl.fisherprob('quick rabbit', 'bad')"
      ],
      "execution_count": 25,
      "outputs": [
        {
          "output_type": "stream",
          "text": [
            "/usr/local/lib/python3.6/dist-packages/ipykernel_launcher.py:4: FutureWarning: split() requires a non-empty pattern match.\n",
            "  after removing the cwd from sys.path.\n"
          ],
          "name": "stderr"
        },
        {
          "output_type": "execute_result",
          "data": {
            "text/plain": [
              "0.35633596283335256"
            ]
          },
          "metadata": {
            "tags": []
          },
          "execution_count": 25
        }
      ]
    },
    {
      "cell_type": "code",
      "metadata": {
        "id": "N9ZcKwG6X2Sx",
        "colab_type": "code",
        "colab": {}
      },
      "source": [
        ""
      ],
      "execution_count": 0,
      "outputs": []
    }
  ]
}