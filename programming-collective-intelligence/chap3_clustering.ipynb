{
 "nbformat": 4,
 "nbformat_minor": 2,
 "metadata": {
  "language_info": {
   "name": "python",
   "codemirror_mode": {
    "name": "ipython",
    "version": 3
   },
   "version": "3.6.5"
  },
  "orig_nbformat": 2,
  "file_extension": ".py",
  "mimetype": "text/x-python",
  "name": "python",
  "npconvert_exporter": "python",
  "pygments_lexer": "ipython3",
  "version": 3
 },
 "cells": [
  {
   "cell_type": "markdown",
   "execution_count": null,
   "metadata": {},
   "outputs": [],
   "source": [
    "# Hierarchical Clustering"
   ]
  },
  {
   "cell_type": "markdown",
   "execution_count": null,
   "metadata": {},
   "outputs": [],
   "source": [
    "## Crawl from web"
   ]
  },
  {
   "cell_type": "code",
   "execution_count": null,
   "metadata": {},
   "outputs": [],
   "source": []
  },
  {
   "cell_type": "markdown",
   "execution_count": null,
   "metadata": {},
   "outputs": [],
   "source": [
    "## Similarity(Distance): Pearson's Correlation"
   ]
  },
  {
   "cell_type": "code",
   "execution_count": 1,
   "metadata": {},
   "outputs": [],
   "source": [
    "from math import sqrt\n",
    "def pearson(v1, v2):\n",
    "    sum1 = sum(v1)\n",
    "    sum2 = sum(v2)\n",
    "\n",
    "    sum1_sq = sum([pow(v, 2) for v in v1])\n",
    "    sum2_sq = sum([pow(v, 2) for v in v2])\n",
    "\n",
    "    p_sum = sum([v1[i] * v2[i] for i in range(len(v1))])\n",
    "\n",
    "    num = p_sum - (sum1 * sum2 / len(v1))\n",
    "    den = sqrt((sum1_sq - pow(sum1, 2)/len(v1)) * (sum2_sq - pow(sum2, 2)/len(v2)))\n",
    "\n",
    "    if den == 0:\n",
    "        return 0\n",
    "    \n",
    "    return 1.0 - num/den"
   ]
  },
  {
   "cell_type": "markdown",
   "execution_count": null,
   "metadata": {},
   "outputs": [],
   "source": [
    "## Binary Cluster"
   ]
  },
  {
   "cell_type": "code",
   "execution_count": 2,
   "metadata": {},
   "outputs": [],
   "source": [
    "class bicluster:\n",
    "    def __init__(self, vec, left=None, right=None, distance=0.0, id=None):\n",
    "        self.left = left\n",
    "        self.right = right\n",
    "        self.vec = vec\n",
    "        self.id = id\n",
    "        self.distance = distance\n"
   ]
  },
  {
   "cell_type": "code",
   "execution_count": null,
   "metadata": {},
   "outputs": [],
   "source": [
    "def h_cluster(rows, distance=pearson):\n",
    "    distances = {}\n",
    "    current_clust_id = -1\n",
    "\n",
    "    clust = [bicluster(rows[i], id=i) for i in range(len(rows))]\n",
    "\n",
    "    while len(clust) > 1:\n",
    "        lowest_pair = (0,1)\n",
    "        closest = distance(clust[0].vec, clust[1].vec)\n",
    "\n",
    "        for i in range(len(clust)):\n",
    "            for j in range(i+1, len(clust)):\n",
    "                if (clust[i].id, clust[j].id) not in distances:\n",
    "                    distances[(clust[i].id, clust[j].id)] = distances(clust[i].vec, clust[j].vec)\n",
    "                d = distances[(clust[i].id, clust[j].id)]\n",
    "\n",
    "                if d < clusest:\n",
    "                    closest = d\n",
    "                    lowest_pair = (clust[i].id, clust[j].id)\n",
    "        \n",
    "        mergevec = [(clust[lowest_pair[0]].vec[i] + clust[lowest_pair[1]].vec[i])/2.0 for i in range(len(clust[0].vec))]\n",
    "    \n",
    "        new_cluster = bicluster(mergevec, left=clust[lowest_pair[0]], right=clust[lowest_pair[1]], distance=clusest, id=current_clust_id)\n",
    "\n",
    "        current_clust_id -= 1\n",
    "        del clust[lowest_pair[1]]\n",
    "        del clust[lowest_pair[0]]\n",
    "    \n",
    "    return clust[0]"
   ]
  }
 ]
}